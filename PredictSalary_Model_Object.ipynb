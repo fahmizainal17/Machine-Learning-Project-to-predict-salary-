{
  "nbformat": 4,
  "nbformat_minor": 0,
  "metadata": {
    "colab": {
      "provenance": [],
      "include_colab_link": true
    },
    "kernelspec": {
      "name": "python3",
      "display_name": "Python 3"
    },
    "language_info": {
      "name": "python"
    }
  },
  "cells": [
    {
      "cell_type": "markdown",
      "metadata": {
        "id": "view-in-github",
        "colab_type": "text"
      },
      "source": [
        "<a href=\"https://colab.research.google.com/github/fahmizainal17/Machine-Learning-Project-to-predict-salary-/blob/main/PredictSalary_Model_Object.ipynb\" target=\"_parent\"><img src=\"https://colab.research.google.com/assets/colab-badge.svg\" alt=\"Open In Colab\"/></a>"
      ]
    },
    {
      "cell_type": "markdown",
      "source": [
        "# 1. Import Libraries and Packages"
      ],
      "metadata": {
        "id": "DpryFxAYFPZI"
      }
    },
    {
      "cell_type": "markdown",
      "source": [
        "Load the Model\n",
        "\n",
        "Steps :\n",
        "1. Copy path of invoke_xgbc_model.pkl and paste it at import pickle snippet.\n",
        "\n",
        "2. Copy path of cleaned_dataTransformed and paste it at import data snippet.\n",
        "\n",
        "3. Run all.\n",
        "\n",
        "Note that\n",
        "     \n"
      ],
      "metadata": {
        "id": "n2w5bCOiN_su"
      }
    },
    {
      "cell_type": "code",
      "source": [
        "import pickle\n",
        "\n",
        "# Load the saved pipeline and model\n",
        "with open('/content/xgbc_model.pkl', 'rb') as file:\n",
        "    loaded_pipeline = pickle.load(file)\n"
      ],
      "metadata": {
        "id": "UY_rxSG6N_HD"
      },
      "execution_count": 27,
      "outputs": []
    },
    {
      "cell_type": "code",
      "execution_count": 28,
      "metadata": {
        "id": "ptwp_umhESel"
      },
      "outputs": [],
      "source": [
        "# Required\n",
        "import numpy as np\n",
        "import pandas as pd\n",
        "\n",
        "# Pipeline\n",
        "from sklearn.compose import ColumnTransformer\n",
        "from sklearn.pipeline import Pipeline, make_pipeline\n",
        "from sklearn.preprocessing import StandardScaler\n",
        "from sklearn.preprocessing import RobustScaler\n",
        "from sklearn.preprocessing import FunctionTransformer\n",
        "\n",
        "# Import models\n",
        "from sklearn.model_selection import train_test_split\n",
        "from xgboost import XGBClassifier\n",
        "\n",
        "# Metrics\n",
        "from sklearn.metrics import precision_score, recall_score, f1_score, accuracy_score\n",
        "from sklearn.model_selection import cross_val_score, cross_validate, StratifiedKFold\n",
        "from sklearn.metrics import roc_auc_score"
      ]
    },
    {
      "cell_type": "markdown",
      "source": [
        "# 2. Define predictSalary function"
      ],
      "metadata": {
        "id": "G0P6bFXiFVnT"
      }
    },
    {
      "cell_type": "code",
      "source": [
        "# Define function predictSalary\n",
        "def predictSalary(model, data):\n",
        "    X = data.drop(\"salary\", axis=1) # Features/predictor\n",
        "    Y = data[\"salary\"] # Target\n",
        "\n",
        "    # Split dataset\n",
        "    x_train, x_test, y_train, y_test = train_test_split(X, Y, test_size=0.10, random_state=1) # 90:10 (Train:Test)\n",
        "\n",
        "    # Train the model\n",
        "    model.fit(x_train, y_train) # Model will try to learn\n",
        "\n",
        "    # Predict probabilities and labels\n",
        "    prediction_prob = model.predict_proba(x_test) # Probability of a class\n",
        "    prediction = model.predict(x_test) # Exact prediction\n",
        "\n",
        "    # Calculate accuracy, precision, recall, F1-score, log loss\n",
        "    test_accuracy = model.score(x_test, y_test)\n",
        "    train_accuracy = model.score(x_train, y_train)\n",
        "    precision = precision_score(y_test, prediction)\n",
        "    recall = recall_score(y_test, prediction)\n",
        "    f1 = f1_score(y_test, prediction)\n",
        "\n",
        "    # Cross Validation\n",
        "    # Stratified sampling instead of random sampling for equal proportion\n",
        "    stratified_kf = StratifiedKFold(n_splits=5, shuffle=True, random_state=0)\n",
        "\n",
        "    # Perform cross-validation on the test data and calculate mean accuracy and log loss\n",
        "    results = cross_validate(model,\n",
        "                              X,\n",
        "                              Y,\n",
        "                              cv=stratified_kf,\n",
        "                              scoring='roc_auc')\n",
        "\n",
        "    # Extract the scores\n",
        "    auc_scores = results['test_score']\n",
        "\n",
        "    # Calculate the means for each cross validated evaluation metrics\n",
        "    mean_auc_scores = np.mean(auc_scores)\n",
        "\n",
        "    # Print the evaluation metrics\n",
        "    print(\"*********Check Overfitting/Underfitting*********\")\n",
        "    print(f\"Train Accuracy: {train_accuracy:.4f}\")\n",
        "    print(f\"Test Accuracy: {test_accuracy:.4f}\")\n",
        "    print(\"*********Evaluating Metric*********\")\n",
        "    print(f\"Precision: {precision:.4f}\")\n",
        "    print(f\"Recall: {recall:.4f}\")\n",
        "    print(f\"F1-score: {f1:.4f}\")\n",
        "    print(f\"Mean AUC: {mean_auc_scores:.4f}\")\n",
        "    print(\"**************************\")\n",
        "\n",
        "    return mean_auc_scores"
      ],
      "metadata": {
        "id": "XQinXa9iEW2c"
      },
      "execution_count": 29,
      "outputs": []
    },
    {
      "cell_type": "markdown",
      "source": [
        "# 3. Import data"
      ],
      "metadata": {
        "id": "gPBhqjipFObG"
      }
    },
    {
      "cell_type": "code",
      "source": [
        "# Define data\n",
        "df = pd.read_csv('/content/cleaned_dataTransformed.csv')"
      ],
      "metadata": {
        "id": "MGus-JcWE4gR"
      },
      "execution_count": 30,
      "outputs": []
    },
    {
      "cell_type": "markdown",
      "source": [
        "# 4. Define Model Pipeline"
      ],
      "metadata": {
        "id": "vMVWYfPJF1nY"
      }
    },
    {
      "cell_type": "code",
      "source": [
        "# Define pipeline\n",
        "right_skew_numerical_transform = ['house_rental_fee',\n",
        "                                  'house_loan_pmt',\n",
        "                                  'transport_spending',\n",
        "                                  'public_transport_spending',\n",
        "                                  'house_utility',\n",
        "                                  'food_spending',\n",
        "                                  'kids_spending',\n",
        "                                  'personal_loan',\n",
        "                                  'education_loan',\n",
        "                                  'other_loan',\n",
        "                                  'investment']\n",
        "\n",
        "# Right Skew Pipeline\n",
        "preprocessing_pipeline1 = Pipeline([\n",
        "    ('log1p_transform', FunctionTransformer(func=np.log1p, validate=False)), # Convert from right skew to symmetrical\n",
        "    ('robust_scaling', RobustScaler()), # Removes outliers\n",
        "    ('standard_scaling', StandardScaler()) # Standardization (create similar scale between features)\n",
        "])\n",
        "\n",
        "# Create a column transformer using the pipelines for skew and categorical features\n",
        "transformer = ColumnTransformer(\n",
        "    transformers=[\n",
        "        ('Right Skew Num', preprocessing_pipeline1, right_skew_numerical_transform),\n",
        "    ],\n",
        "    remainder=\"passthrough\"\n",
        ")"
      ],
      "metadata": {
        "id": "z5AZUDITE9Yh"
      },
      "execution_count": 31,
      "outputs": []
    },
    {
      "cell_type": "markdown",
      "source": [
        "# 4. Define Model Object"
      ],
      "metadata": {
        "id": "a0UlBgrxF5Gq"
      }
    },
    {
      "cell_type": "code",
      "source": [
        "# Define model object with best parameters obtained during the model building\n",
        "model = loaded_pipeline"
      ],
      "metadata": {
        "id": "LFbnVryvFDVc"
      },
      "execution_count": 32,
      "outputs": []
    },
    {
      "cell_type": "markdown",
      "source": [
        "# 5. Predict!"
      ],
      "metadata": {
        "id": "fXN5i1HdF9Z6"
      }
    },
    {
      "cell_type": "code",
      "source": [
        "mean_auc_scores = predictSalary(model, df)"
      ],
      "metadata": {
        "colab": {
          "base_uri": "https://localhost:8080/"
        },
        "id": "Vk5-BY2vF_G_",
        "outputId": "9980719a-8a37-4987-b71b-70642df992ce"
      },
      "execution_count": 33,
      "outputs": [
        {
          "output_type": "stream",
          "name": "stderr",
          "text": [
            "/usr/local/lib/python3.10/dist-packages/xgboost/core.py:160: UserWarning: [20:59:44] WARNING: /workspace/src/learner.cc:742: \n",
            "Parameters: { \"max_features\", \"max_leaf_nodes\" } are not used.\n",
            "\n",
            "  warnings.warn(smsg, UserWarning)\n",
            "/usr/local/lib/python3.10/dist-packages/xgboost/core.py:160: UserWarning: [20:59:44] WARNING: /workspace/src/learner.cc:742: \n",
            "Parameters: { \"max_features\", \"max_leaf_nodes\" } are not used.\n",
            "\n",
            "  warnings.warn(smsg, UserWarning)\n",
            "/usr/local/lib/python3.10/dist-packages/xgboost/core.py:160: UserWarning: [20:59:44] WARNING: /workspace/src/learner.cc:742: \n",
            "Parameters: { \"max_features\", \"max_leaf_nodes\" } are not used.\n",
            "\n",
            "  warnings.warn(smsg, UserWarning)\n",
            "/usr/local/lib/python3.10/dist-packages/xgboost/core.py:160: UserWarning: [20:59:44] WARNING: /workspace/src/learner.cc:742: \n",
            "Parameters: { \"max_features\", \"max_leaf_nodes\" } are not used.\n",
            "\n",
            "  warnings.warn(smsg, UserWarning)\n",
            "/usr/local/lib/python3.10/dist-packages/xgboost/core.py:160: UserWarning: [20:59:45] WARNING: /workspace/src/learner.cc:742: \n",
            "Parameters: { \"max_features\", \"max_leaf_nodes\" } are not used.\n",
            "\n",
            "  warnings.warn(smsg, UserWarning)\n"
          ]
        },
        {
          "output_type": "stream",
          "name": "stdout",
          "text": [
            "*********Check Overfitting/Underfitting*********\n",
            "Train Accuracy: 0.9440\n",
            "Test Accuracy: 0.9078\n",
            "*********Evaluating Metric*********\n",
            "Precision: 0.6538\n",
            "Recall: 0.6071\n",
            "F1-score: 0.6296\n",
            "Mean AUC: 0.9297\n",
            "**************************\n"
          ]
        },
        {
          "output_type": "stream",
          "name": "stderr",
          "text": [
            "/usr/local/lib/python3.10/dist-packages/xgboost/core.py:160: UserWarning: [20:59:45] WARNING: /workspace/src/learner.cc:742: \n",
            "Parameters: { \"max_features\", \"max_leaf_nodes\" } are not used.\n",
            "\n",
            "  warnings.warn(smsg, UserWarning)\n"
          ]
        }
      ]
    }
  ]
}